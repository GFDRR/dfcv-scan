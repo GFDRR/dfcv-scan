{
 "cells": [
  {
   "cell_type": "markdown",
   "id": "2ad17acc-7ed8-484f-b214-6262d95f6c6a",
   "metadata": {},
   "source": [
    "## Imports and Setup"
   ]
  },
  {
   "cell_type": "code",
   "execution_count": 1,
   "id": "7a1b54c1-7174-4b5f-bd23-655fa71e72a6",
   "metadata": {},
   "outputs": [],
   "source": [
    "import os\n",
    "import pprint\n",
    "os.chdir(\"..\")\n",
    "\n",
    "from src.dfcv_colocation_mapping import data_download\n",
    "from src.dfcv_colocation_mapping import data_utils\n",
    "from src.dfcv_colocation_mapping import map_utils\n",
    "\n",
    "import pandas as pd\n",
    "pd.set_option('display.max_columns', None)\n",
    "pd.set_option('display.width', 1000)\n",
    "\n",
    "%load_ext autoreload\n",
    "%autoreload 2"
   ]
  },
  {
   "cell_type": "markdown",
   "id": "ecfecb88-371a-4324-b82d-ca7bf41a8b9d",
   "metadata": {},
   "source": [
    "## Parameters"
   ]
  },
  {
   "cell_type": "code",
   "execution_count": 11,
   "id": "856843e9-3ec5-4994-89ab-7c11808bf79e",
   "metadata": {},
   "outputs": [],
   "source": [
    "iso_code = \"NPL\"\n",
    "adm_level = \"ADM3\""
   ]
  },
  {
   "cell_type": "markdown",
   "id": "fa73f36b-6bcf-4daa-ab44-9c3fc4d48ee3",
   "metadata": {},
   "source": [
    "## Download Datasets"
   ]
  },
  {
   "cell_type": "code",
   "execution_count": 12,
   "id": "a15b4d94-817e-4e56-9c92-9865a4b4639e",
   "metadata": {},
   "outputs": [],
   "source": [
    "dm = data_download.DatasetManager(\n",
    "    iso_code, \n",
    "    adm_level=adm_level,\n",
    "    data_dir=\"data/\",\n",
    "    config_file=\"src/dfcv_colocation_mapping/configs/data_config.yaml\",\n",
    "    acled_file=\"creds/acled_creds.yaml\",\n",
    "    dtm_file=\"creds/dtm_creds.yaml\",\n",
    "    adm_config_file=\"src/dfcv_colocation_mapping/configs/adm_config.yaml\",\n",
    "    osm_config_file=\"src/dfcv_colocation_mapping/configs/osm_config.yaml\",\n",
    "    mhs_aggregation=\"power_mean\"\n",
    ")"
   ]
  },
  {
   "cell_type": "code",
   "execution_count": 13,
   "id": "3ffa7cce-6fcc-424a-a1ec-e26366225b46",
   "metadata": {},
   "outputs": [
    {
     "name": "stdout",
     "output_type": "stream",
     "text": [
      "{'exclude': {'disorder_type': ['Strategic developments'],\n",
      "             'event_type': ['Strategic developments'],\n",
      "             'sub_event_type': ['Agreement',\n",
      "                                'Arrests',\n",
      "                                'Change to group/activity',\n",
      "                                'Disrupted weapons use',\n",
      "                                'Headquarters or base established',\n",
      "                                'Looting/property destruction',\n",
      "                                'Non-violent transfer of territory',\n",
      "                                'Other',\n",
      "                                'Peaceful protest']},\n",
      " 'include': {'disorder_type': ['Political violence',\n",
      "                               'Political violence; Demonstrations',\n",
      "                               'Demonstrations'],\n",
      "             'event_type': ['Protests',\n",
      "                            'Violence against civilians',\n",
      "                            'Battles',\n",
      "                            'Riots',\n",
      "                            'Explosions/Remote violence'],\n",
      "             'sub_event_type': ['Government regains territory',\n",
      "                                'Non-state actor overtakes territory',\n",
      "                                'Armed clash',\n",
      "                                'Chemical weapon',\n",
      "                                'Air/drone strike',\n",
      "                                'Suicide bomb',\n",
      "                                'Shelling/artillery/missile attack',\n",
      "                                'Remote explosive/landmine/IED',\n",
      "                                'Grenade',\n",
      "                                'Mob violence',\n",
      "                                'Sexual violence',\n",
      "                                'Attack',\n",
      "                                'Abduction/forced disappearance',\n",
      "                                'Excessive force against protesters',\n",
      "                                'Protest with intervention',\n",
      "                                'Violent demonstration']}}\n"
     ]
    }
   ],
   "source": [
    "# Remove Strategic Developments\n",
    "# --------- COPY THIS CODE ------------ #\n",
    "dm.set_acled_filters(\n",
    "    category=\"disorder_type\", \n",
    "    values = [\n",
    "        'Strategic developments'\n",
    "    ],\n",
    "    operation=\"exclude\"\n",
    ")\n",
    "# ----------------------------------- #\n",
    "\n",
    "# Remove peaceful protests\n",
    "dm.set_acled_filters(\n",
    "    category=\"sub_event_type\", \n",
    "    values = [\n",
    "        'Peaceful protest'\n",
    "    ],\n",
    "    operation=\"exclude\"\n",
    ")\n",
    "\n",
    "# Sense-check inclusion/exclusion criteria\n",
    "pprint.pprint(dm.acled_filters)"
   ]
  },
  {
   "cell_type": "code",
   "execution_count": null,
   "id": "801a0eb2-0ea8-462b-b1ba-016475626401",
   "metadata": {},
   "outputs": [],
   "source": [
    "dm.data.query(\"\")"
   ]
  },
  {
   "cell_type": "code",
   "execution_count": null,
   "id": "744d6f1b-7bf1-491d-8934-684f0959bd1a",
   "metadata": {},
   "outputs": [],
   "source": [
    "dm.data.query(\"disorder_type == 'Strategic developments'\")"
   ]
  },
  {
   "cell_type": "code",
   "execution_count": null,
   "id": "cfb33a53-be99-42b4-bdfd-4e67738e1640",
   "metadata": {},
   "outputs": [
    {
     "name": "stderr",
     "output_type": "stream",
     "text": [
      "INFO:root:Loading ADM3 geoboundaries...\n",
      "INFO:root:Downloading geoboundary for NPL...\n",
      "INFO:root:Geoboundary file saved to C:\\Users\\Isabelle\\Documents\\GFDRR\\dfcv\\colocation-mapping\\data/NPL\\NPL_ADM1.geojson.\n",
      "INFO:pyogrio._io:Created 7 records\n",
      "INFO:root:Geoboundary file saved to C:\\Users\\Isabelle\\Documents\\GFDRR\\dfcv\\colocation-mapping\\data/NPL\\NPL_ADM2.geojson.\n",
      "INFO:pyogrio._io:Created 775 records\n"
     ]
    }
   ],
   "source": [
    "dm.download_data()\n",
    "geoplot = map_utils.GeoPlot(dm, data_dir=\"data/\", map_config_file=\"src/dfcv_colocation_mapping/configs/map_config.yaml\")\n",
    "dm.data.sort_values(\"mhs_all_ucdp_worldpop_exposure_relative\", ascending=False).head(3)"
   ]
  },
  {
   "cell_type": "markdown",
   "id": "ac2f6834-28eb-4873-a8ea-7cf6dfc4d768",
   "metadata": {
    "jp-MarkdownHeadingCollapsed": true
   },
   "source": [
    "## AHP Weight Calculation [Optional]"
   ]
  },
  {
   "cell_type": "code",
   "execution_count": null,
   "id": "81d3cd18-ca43-4beb-ac4a-e48332f57eed",
   "metadata": {},
   "outputs": [],
   "source": [
    "dm.calculate_ahp()\n",
    "geoplot = map_utils.GeoPlot(dm)\n",
    "dm.data.sort_values(f\"mhs_all_wbg_acled_{dm.asset}_exposure_relative\", ascending=False).head(3)"
   ]
  },
  {
   "cell_type": "markdown",
   "id": "30d84f32-040f-4a3a-9172-aec27d4f43cf",
   "metadata": {},
   "source": [
    "## Plot Regional Groupings"
   ]
  },
  {
   "cell_type": "code",
   "execution_count": null,
   "id": "817c9114-37db-43be-85a2-f309620fb96d",
   "metadata": {},
   "outputs": [],
   "source": [
    "ax, x = geoplot.plot_geoboundaries(\n",
    "    adm_level=\"ADM2\",\n",
    "    group=\"ADM1\"\n",
    ");"
   ]
  },
  {
   "cell_type": "markdown",
   "id": "927d5b16-345a-44a2-8fbd-e6f7a33ed229",
   "metadata": {},
   "source": [
    "## Plot Population"
   ]
  },
  {
   "cell_type": "code",
   "execution_count": null,
   "id": "97451325-b7fc-4623-bf85-4008a2281d19",
   "metadata": {},
   "outputs": [],
   "source": [
    "ax, x = geoplot.plot_choropleth( \n",
    "    var=\"bem\",\n",
    "    kwargs={\"legend_type\": \"colorbar\", \"legend_y\": 0.475}\n",
    ")"
   ]
  },
  {
   "cell_type": "code",
   "execution_count": null,
   "id": "48bcbcc5-1f2b-4866-bf0a-4cb448f5a9ff",
   "metadata": {},
   "outputs": [],
   "source": [
    "ax, x = geoplot.plot_choropleth( \n",
    "    var=\"acled_conflict_count\",\n",
    "    kwargs={\n",
    "        \"legend_type\": \"colorbar\",\n",
    "        \"cmap\": \"Reds\",\n",
    "        \"edgecolor\": \"dimgray\",\n",
    "        \"legend_y\": 0.475\n",
    "    }\n",
    ");"
   ]
  },
  {
   "cell_type": "code",
   "execution_count": null,
   "id": "dce5ac09-78a4-4087-a36f-d742b51e52bd",
   "metadata": {},
   "outputs": [],
   "source": [
    "ax, x = geoplot.plot_choropleth( \n",
    "    var=\"numPresentIdpInd\",\n",
    "    data=dm.dtm\n",
    ")"
   ]
  },
  {
   "cell_type": "code",
   "execution_count": null,
   "id": "184dc947-ebe0-4fca-ac22-75c5cff2c214",
   "metadata": {},
   "outputs": [],
   "source": [
    "ax, x = geoplot.plot_choropleth( \n",
    "    var=\"acled_conflict_count\",\n",
    "    kwargs={\n",
    "        \"legend_type\": \"colorbar\",\n",
    "        \"cmap\": \"Reds\",\n",
    "        \"edgecolor\": \"dimgray\",\n",
    "        #\"legend_y\": 0.475\n",
    "    },\n",
    "    #zoom_to={\"ADM1\": \"Kigali City\"},\n",
    ");\n",
    "geoplot.plot_points(\n",
    "    \"event_type\", \n",
    "    dataset=\"acled\", \n",
    "    clustering=True,  \n",
    "    kwargs={\n",
    "        \"alpha\": 0.8,\n",
    "        \"legend_y\": 0.435,\n",
    "        \"legend_x\": 0.275,\n",
    "        \"markerscale\": 2,\n",
    "        \"cmap\": \"tab10\"\n",
    "    },\n",
    "    #zoom_to={\"ADM1\": \"Kigali City\"},\n",
    "    ax=ax, xpos=x,\n",
    ");"
   ]
  },
  {
   "cell_type": "markdown",
   "id": "020bebfc-2bec-4b63-b251-92b0b54933fa",
   "metadata": {},
   "source": [
    "## Plot Conflict Exposure - ACLED (Population Best)"
   ]
  },
  {
   "cell_type": "code",
   "execution_count": null,
   "id": "e8eb6c33-d0f7-46bd-b32a-e3dd50563eff",
   "metadata": {},
   "outputs": [],
   "source": [
    "source = \"wbg_acled\"\n",
    "geoplot.plot_choropleth( \n",
    "    var=f\"{source}_bem_exposure\",\n",
    "    subtitle=\"By township, from 2021 to 2025\",\n",
    "    kwargs={\"legend_type\": \"colorbar\"}\n",
    ")\n",
    "geoplot.plot_choropleth( \n",
    "    var=f\"{source}_bem_exposure_relative\",\n",
    "    subtitle=\"By township, from 2021 to 2025\",\n",
    "    kwargs={\"legend_type\": \"colorbar\"}\n",
    ");"
   ]
  },
  {
   "cell_type": "markdown",
   "id": "5be0437e-8215-4ad3-982d-e45722943518",
   "metadata": {},
   "source": [
    "## Plot Conflict Exposure - ACLED (Custom Calculation)"
   ]
  },
  {
   "cell_type": "code",
   "execution_count": null,
   "id": "59d35dd0-e383-4118-a473-53728c7e609d",
   "metadata": {},
   "outputs": [],
   "source": [
    "source = \"wbg_acled\"\n",
    "geoplot.plot_choropleth( \n",
    "    var=f\"{source}_bem_exposure\",\n",
    ")\n",
    "ax, x = geoplot.plot_choropleth( \n",
    "    var=f\"{source}_bem_exposure\",\n",
    "    var_bounds=[0, 100],\n",
    ");"
   ]
  },
  {
   "cell_type": "markdown",
   "id": "88c669a1-01bc-43e5-b083-48ede38bff7c",
   "metadata": {},
   "source": [
    "## Plot Conflict Exposure - UCDP"
   ]
  },
  {
   "cell_type": "code",
   "execution_count": null,
   "id": "7fff8bca-a78d-48a3-852b-6674d2d1d84a",
   "metadata": {},
   "outputs": [],
   "source": [
    "source = \"ucdp\"\n",
    "geoplot.plot_choropleth( \n",
    "    var=f\"{source}_bem_exposure\"\n",
    ")\n",
    "geoplot.plot_choropleth( \n",
    "    var=f\"{source}_bem_exposure_relative\",\n",
    "    var_bounds=[0, 100]\n",
    ");"
   ]
  },
  {
   "cell_type": "markdown",
   "id": "3d4420ed-a37b-4991-a2de-86c6313e21c7",
   "metadata": {
    "jp-MarkdownHeadingCollapsed": true
   },
   "source": [
    "## Zoom Choropleth to a specific region"
   ]
  },
  {
   "cell_type": "code",
   "execution_count": null,
   "id": "cf02b785-95db-4c43-aa9c-2cd85f1045cf",
   "metadata": {},
   "outputs": [],
   "source": [
    "source = \"wbg_acled\"\n",
    "geoplot.plot_choropleth( \n",
    "    var=f\"{source}_{dm.asset}_exposure\",\n",
    "    zoom_to={\"ADM1\": \"Lomami\"},\n",
    "    subtitle=\"By township, from 2021 to 2025\"\n",
    ")"
   ]
  },
  {
   "cell_type": "code",
   "execution_count": null,
   "id": "e8110697-01d7-499d-8847-95fe85cad334",
   "metadata": {},
   "outputs": [],
   "source": [
    "ax = geoplot.plot_choropleth( \n",
    "    var=f\"{source}_{dm.asset}_exposure_relative\",\n",
    "    zoom_to={\"ADM1\": \"Lakes\"},\n",
    "    subtitle=\"By township, from 2021 to 2025\",\n",
    "    var_bounds=[0, 100],\n",
    "    kwargs={\n",
    "        'legend_shrink': 0.20,\n",
    "        'legend_type': 'colorbar',\n",
    "    },\n",
    ");"
   ]
  },
  {
   "cell_type": "code",
   "execution_count": null,
   "id": "16782f26-7043-4441-bb5e-51d8e15b97d1",
   "metadata": {},
   "outputs": [],
   "source": [
    "ax = geoplot.plot_choropleth( \n",
    "    var=f\"numPresentIdpInd\",\n",
    "    subtitle=\"By township, from 2021 to 2025\",\n",
    "    #var_bounds=[0, 100],\n",
    "    kwargs={\n",
    "        'legend_shrink': 0.20,\n",
    "        'legend_type': 'colorbar',\n",
    "    },\n",
    ");"
   ]
  },
  {
   "cell_type": "code",
   "execution_count": null,
   "id": "6d22b4d2-bf10-40e7-a7a2-d284cb3ab78d",
   "metadata": {},
   "outputs": [],
   "source": [
    "source = \"wbg_acled\"\n",
    "geoplot.plot_choropleth( \n",
    "    var=f\"{source}_{dm.asset}_exposure\",\n",
    "    zoom_to={\"ADM1\": \"Eastern Province\"},\n",
    "    subtitle=\"By township, from 2021 to 2025\"\n",
    ")\n",
    "ax = geoplot.plot_choropleth( \n",
    "    var=f\"{source}_{dm.asset}_exposure_relative\",\n",
    "    zoom_to={\"ADM1\": \"Eastern Province\"},\n",
    "    subtitle=\"By township, from 2021 to 2025\",\n",
    "    var_bounds=[0, 100],\n",
    ");"
   ]
  },
  {
   "cell_type": "markdown",
   "id": "0a0e34b9-3e7f-44ce-b162-13bb9fddba6c",
   "metadata": {},
   "source": [
    "## Map Exposure to a Single Hazard"
   ]
  },
  {
   "cell_type": "code",
   "execution_count": null,
   "id": "fb4323a6-78cb-4981-944e-a211b459da17",
   "metadata": {},
   "outputs": [],
   "source": [
    "hazard = \"earthquake\"\n",
    "geoplot.plot_raster(hazard);"
   ]
  },
  {
   "cell_type": "code",
   "execution_count": null,
   "id": "2b14b111-9f1d-447d-9dc5-d1b4c897be13",
   "metadata": {},
   "outputs": [],
   "source": [
    "geoplot.plot_choropleth(f\"{hazard}\");"
   ]
  },
  {
   "cell_type": "code",
   "execution_count": null,
   "id": "34bcc6a1-0d94-428c-b32e-159ea8c8c995",
   "metadata": {},
   "outputs": [],
   "source": [
    "geoplot.plot_choropleth(f\"{hazard}_bem_intensity_weighted_exposure_relative\");"
   ]
  },
  {
   "cell_type": "code",
   "execution_count": null,
   "id": "9fdb2b00-25bb-4e04-a1c5-9d78ac1997ec",
   "metadata": {},
   "outputs": [],
   "source": [
    "geoplot.plot_choropleth(\n",
    "    f\"{hazard}_bem_exposure\",\n",
    "    kwargs={\"legend_type\": \"colorbar\"}\n",
    ");"
   ]
  },
  {
   "cell_type": "code",
   "execution_count": null,
   "id": "c6d8a076-5a0c-4b1e-8f43-c620fde02b95",
   "metadata": {},
   "outputs": [],
   "source": [
    "geoplot.plot_choropleth(\n",
    "    f\"{hazard}_worldpop_intensity_weighted_exposure_relative\",\n",
    ");"
   ]
  },
  {
   "cell_type": "markdown",
   "id": "8078ca0d-6e43-4beb-90f2-a4d91900f722",
   "metadata": {},
   "source": [
    "## Plot Multi-hazard Exposure Index and Multi-hazard Conflict Exposure Index"
   ]
  },
  {
   "cell_type": "code",
   "execution_count": null,
   "id": "00e33dba-cba7-4d42-a575-5d1e611287b4",
   "metadata": {},
   "outputs": [],
   "source": [
    "geoplot.plot_choropleth( \n",
    "    var=f\"mhs_all_bem_exposure_relative\",\n",
    "    kwargs={\n",
    "        \"legend_type\": \"colorbar\", \n",
    "        \"linewidth\": 0.1\n",
    "    }\n",
    ");"
   ]
  },
  {
   "cell_type": "code",
   "execution_count": null,
   "id": "6686e0ef-dbcf-4e9c-969d-51b52d116071",
   "metadata": {},
   "outputs": [],
   "source": [
    "ax, x = geoplot.plot_choropleth( \n",
    "    var=f\"mhs_all_worldpop_exposure_relative\",\n",
    "    kwargs={\"legend_type\": \"colorbar\", \"legend_y\": 0.5,}\n",
    ");\n",
    "geoplot.plot_points(\n",
    "    \"type_of_violence\", \n",
    "    dataset=\"acled\", \n",
    "    clustering=False,  \n",
    "    kwargs={\n",
    "        \"alpha\": 0.5,\n",
    "        \"legend_y\": 0.425,\n",
    "        \"markerscale\": 0.5,\n",
    "        \"cmap\": \"tab10\"\n",
    "    },\n",
    "    ax=ax, xpos=x,\n",
    ");"
   ]
  },
  {
   "cell_type": "code",
   "execution_count": null,
   "id": "50369249-0d90-4658-8927-a8fa0031e0ee",
   "metadata": {},
   "outputs": [],
   "source": [
    "geoplot.plot_choropleth( \n",
    "    var=f\"mhs_all_wbg_acled_{dm.asset}_intensity_weighted_exposure_relative\",\n",
    "    subtitle=\"By township, from 2021 to 2025\",\n",
    "    kwargs={\"legend_type\": \"colorbar\"}\n",
    ");"
   ]
  },
  {
   "cell_type": "code",
   "execution_count": null,
   "id": "7ab6284e-7558-4335-9ec6-2c0cda6bf400",
   "metadata": {},
   "outputs": [],
   "source": [
    "geoplot.plot_choropleth( \n",
    "    var=f\"mhs_all_wbg_acled_{dm.asset}_exposure_relative\",\n",
    "    kwargs={\"legend_type\": \"colorbar\"}\n",
    ");"
   ]
  },
  {
   "cell_type": "markdown",
   "id": "70fd6f89-1f77-4170-be09-41b909a4e292",
   "metadata": {},
   "source": [
    "# Bivariate Choropleth: Overlay Multi-hazard and Conflict Exposure"
   ]
  },
  {
   "cell_type": "code",
   "execution_count": null,
   "id": "97a716c4-264c-4039-856b-938bdf3c580d",
   "metadata": {},
   "outputs": [],
   "source": [
    "geoplot.plot_bivariate_choropleth( \n",
    "    var1=f\"wbg_acled_{dm.asset}_exposure_relative\",\n",
    "    var2=f\"mhs_all_{dm.asset}_exposure_relative\",\n",
    "    var1_bounds=[0, 1],\n",
    "    var2_bounds=[0, 1],\n",
    "    binning=\"equal_intervals\",\n",
    "    kwargs={\n",
    "        \"legend_fontsize\": 4, \n",
    "        \"edgecolor\": \"white\", \n",
    "        \"linewidth\": 0.2\n",
    "    }\n",
    ");\n"
   ]
  },
  {
   "cell_type": "code",
   "execution_count": null,
   "id": "fd3e50d4-2b94-49ce-bc42-fc6fee9d38bf",
   "metadata": {},
   "outputs": [],
   "source": [
    "geoplot.plot_bivariate_choropleth( \n",
    "    var2=f\"numPresentIdpInd\",\n",
    "    var1=f\"mhs_all_{dm.asset}_intensity_weighted_exposure_relative\",\n",
    "    #var1_bounds=[0, 1],\n",
    "    #var2_bounds=[0, 1],\n",
    "    binning=\"equal_intervals\",\n",
    "    kwargs={\n",
    "        \"legend_fontsize\": 4, \n",
    "        \"edgecolor\": \"white\", \n",
    "        \"linewidth\": 0.2\n",
    "    }\n",
    ");"
   ]
  },
  {
   "cell_type": "code",
   "execution_count": null,
   "id": "53373a3c-19e9-49c8-89d0-86c05229fd54",
   "metadata": {},
   "outputs": [],
   "source": [
    "geoplot.plot_bivariate_choropleth( \n",
    "    var1=f\"wbg_acled_{dm.asset}_exposure_relative\",\n",
    "    var2=f\"mhs_all_{dm.asset}_intensity_weighted_exposure_relative\",\n",
    "    var1_bounds=[0, 1],\n",
    "    var2_bounds=[0, 1],\n",
    "    binning=\"equal_intervals\",\n",
    "    kwargs={\n",
    "        \"legend_fontsize\": 4, \n",
    "        \"edgecolor\": \"white\", \n",
    "        \"linewidth\": 0.2\n",
    "    }\n",
    ");"
   ]
  },
  {
   "cell_type": "code",
   "execution_count": null,
   "id": "c93e1ff6-e1c6-43ab-a6ee-9739f132ffad",
   "metadata": {},
   "outputs": [],
   "source": [
    "geoplot.plot_bivariate_choropleth( \n",
    "    var1=f\"ucdp_{dm.asset}_exposure_relative\",\n",
    "    var2=f\"mhs_{dm.asset}_intensity_weighted_exposure_relative\",\n",
    "    #var1_bounds=[0, 1],\n",
    "    var2_bounds=[0, 1],\n",
    "    binning=\"equal_intervals\",\n",
    "    kwargs={\n",
    "        \"legend_fontsize\": 4, \n",
    "        \"edgecolor\": \"white\", \n",
    "        \"linewidth\": 0.2\n",
    "    }\n",
    ");"
   ]
  },
  {
   "cell_type": "markdown",
   "id": "85c23ae2-983f-459f-8df0-24c57c739e31",
   "metadata": {},
   "source": [
    "## Zoom Bivariate Choropleth to a specific region"
   ]
  },
  {
   "cell_type": "code",
   "execution_count": null,
   "id": "055e8b29-02ff-47d1-baf3-e46f84db81a7",
   "metadata": {},
   "outputs": [],
   "source": [
    "geoplot.plot_bivariate_choropleth( \n",
    "    var1=f\"wbg_acled_{dm.asset}_exposure_relative\",\n",
    "    var2=f\"mhs_{dm.asset}_intensity_weighted_exposure_relative\",\n",
    "    var1_bounds=[0, 1],\n",
    "    var2_bounds=[0, 1],\n",
    "    binning=\"equal_intervals\",\n",
    "    kwargs={\"legend_fontsize\": 4},\n",
    "    zoom_to={\"ADM1\": \"Kigali City\"},\n",
    ");"
   ]
  },
  {
   "cell_type": "markdown",
   "id": "0fe53b90-3784-4dc0-ac17-966ff8e3eb46",
   "metadata": {},
   "source": [
    "## Interactive Map"
   ]
  },
  {
   "cell_type": "code",
   "execution_count": null,
   "id": "ce930c60-6e8f-44a8-9187-692d29cf7b9e",
   "metadata": {},
   "outputs": [],
   "source": [
    "m = geoplot.plot_folium(\n",
    "    adm_level=adm_level,\n",
    "    var=\"mhs_all_wbg_acled_worldpop_exposure_relative\",\n",
    "    kwargs={\"zoom_start\": 9}\n",
    ")\n",
    "m"
   ]
  },
  {
   "cell_type": "code",
   "execution_count": null,
   "id": "2d412f2f-43c1-4179-a9be-97c9a6234c69",
   "metadata": {},
   "outputs": [],
   "source": [
    " m.save(\"folium.html\")"
   ]
  }
 ],
 "metadata": {
  "kernelspec": {
   "display_name": "gfdrr-fcv",
   "language": "python",
   "name": "gfdrr-fcv"
  },
  "language_info": {
   "codemirror_mode": {
    "name": "ipython",
    "version": 3
   },
   "file_extension": ".py",
   "mimetype": "text/x-python",
   "name": "python",
   "nbconvert_exporter": "python",
   "pygments_lexer": "ipython3",
   "version": "3.10.13"
  }
 },
 "nbformat": 4,
 "nbformat_minor": 5
}
